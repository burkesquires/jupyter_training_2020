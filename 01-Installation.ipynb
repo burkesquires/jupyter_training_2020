{
 "cells": [
  {
   "cell_type": "markdown",
   "id": "c3cf61b9-af13-431c-a4af-0a106d168da1",
   "metadata": {},
   "source": [
    "# Installation"
   ]
  },
  {
   "cell_type": "markdown",
   "id": "f20f255d-d7e1-4c5c-bfad-83cf30a065a6",
   "metadata": {},
   "source": [
    "---"
   ]
  },
  {
   "cell_type": "markdown",
   "id": "1477af6a-bbb3-4896-a5d0-c82b5735064e",
   "metadata": {},
   "source": [
    "We will be using JupyterHub, which requires no installation for you today"
   ]
  },
  {
   "cell_type": "markdown",
   "id": "1e3cefb3-ca02-4371-a8c9-f19ed7680bfa",
   "metadata": {},
   "source": [
    "Installation\n",
    "\n",
    "Conda (Windows, Mac, Linux)\n",
    "\n",
    "- Download `Anaconda` distribution from https://anaconda.com\n",
    "    - A `distribution` is a single installer that installs:\n",
    "        - `python` programming language\n",
    "        - A custom installer (from python packages or other software), `conda` in this case\n",
    "        - Many `python` packages that are commonly used in data science\n",
    "- Install `Anaconda` distribution\n",
    "    - Make sure to install only for your use\n",
    "    - This installation, for your use only, does not requre admin istrative privleges on a computer\n",
    "\n",
    "- `miniconda`\n",
    "`"
   ]
  },
  {
   "cell_type": "code",
   "execution_count": null,
   "id": "c50fe054-ed17-4da8-a164-970a379e2b31",
   "metadata": {},
   "outputs": [],
   "source": []
  }
 ],
 "metadata": {
  "kernelspec": {
   "display_name": "Python 3 (ipykernel)",
   "language": "python",
   "name": "python3"
  },
  "language_info": {
   "name": ""
  }
 },
 "nbformat": 4,
 "nbformat_minor": 5
}
