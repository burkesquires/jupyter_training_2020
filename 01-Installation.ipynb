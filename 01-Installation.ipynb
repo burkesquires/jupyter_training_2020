{
 "cells": [
  {
   "cell_type": "markdown",
   "id": "c3cf61b9-af13-431c-a4af-0a106d168da1",
   "metadata": {},
   "source": [
    "# Installation"
   ]
  },
  {
   "cell_type": "markdown",
   "id": "f20f255d-d7e1-4c5c-bfad-83cf30a065a6",
   "metadata": {},
   "source": [
    "---"
   ]
  },
  {
   "cell_type": "markdown",
   "id": "1477af6a-bbb3-4896-a5d0-c82b5735064e",
   "metadata": {},
   "source": [
    "We will be using `JupyterHub` or `RStudio`, which requires no installation for you today!"
   ]
  },
  {
   "cell_type": "markdown",
   "id": "1e3cefb3-ca02-4371-a8c9-f19ed7680bfa",
   "metadata": {},
   "source": [
    "### To install JupyterLab software, follow these steps:\n",
    "\n",
    "- Download `Anaconda` distribution from https://anaconda.com\n",
    "    - A `distribution` is a single installer that installs:\n",
    "        - `python` programming language\n",
    "        - A custom installer (from python packages or other software), `conda` in this case\n",
    "        - Many `python` packages that are commonly used in data science\n",
    "- Install `Anaconda` distribution\n",
    "    - Make sure to install only for your use\n",
    "    - This installation, for your use only, does not requre admin istrative privleges on a computer\n",
    "\n",
    "- You can also install `miniconda`, which is the minimalist Anaconda installation.\n",
    "\n",
    "Please NOTE: Anaconda has changed their licensing requirements and any institution with more then 200 employees needs individual licenes for Anaconda."
   ]
  },
  {
   "cell_type": "markdown",
   "id": "1b1ab565-f468-4011-8599-fceeacb0dd7f",
   "metadata": {},
   "source": [
    "### Additional instructions if Anaconda is not working:\n",
    "    \n",
    "\n",
    "To install JupyterLab software, follow these steps:\n",
    "\n",
    "1. Ensure that you have Python 3 installed on your computer. If you don't have it installed, download and install it from the official Python website (https://www.python.org/downloads/).\n",
    "\n",
    "2. Open your terminal or command prompt and run the following command to install JupyterLab using pip, a Python package manager:\n",
    "\n",
    "   `pip install jupyterlab`\n",
    "\n",
    "3. After the installation is complete, run the following command to start JupyterLab:\n",
    "\n",
    "   `jupyter lab`\n",
    "\n",
    "4. This will open JupyterLab in your default web browser. You can then start creating notebooks, running code, and experimenting with different libraries and packages.\n",
    "\n",
    "Note: If you have any issues installing JupyterLab, make sure that your Python environment is set up correctly and that pip is up to date. You can update pip by running the following command:\n",
    "\n",
    "   `pip install --upgrade pip`"
   ]
  },
  {
   "cell_type": "code",
   "execution_count": null,
   "id": "6380a106-6f4f-48a7-a6e1-79128aa76c23",
   "metadata": {},
   "outputs": [],
   "source": []
  }
 ],
 "metadata": {
  "kernelspec": {
   "display_name": "Python 3 (ipykernel)",
   "language": "python",
   "name": "python3"
  },
  "language_info": {
   "codemirror_mode": {
    "name": "ipython",
    "version": 3
   },
   "file_extension": ".py",
   "mimetype": "text/x-python",
   "name": "python",
   "nbconvert_exporter": "python",
   "pygments_lexer": "ipython3",
   "version": "3.9.12"
  }
 },
 "nbformat": 4,
 "nbformat_minor": 5
}
