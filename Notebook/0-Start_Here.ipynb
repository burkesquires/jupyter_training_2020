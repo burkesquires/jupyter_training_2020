{
 "cells": [
  {
   "cell_type": "markdown",
   "id": "bab85839-9342-410e-a506-1f9d5845136d",
   "metadata": {},
   "source": [
    "Jupyter Notebooks\n",
    "================="
   ]
  },
  {
   "cell_type": "markdown",
   "id": "171bfad3-a968-484d-afd8-4394c47b11eb",
   "metadata": {},
   "source": [
    "---"
   ]
  },
  {
   "cell_type": "markdown",
   "id": "f1bfcbe0-4c66-400c-a44c-2fd8e1a7e8ae",
   "metadata": {},
   "source": [
    "Source: https://github.com/jupyter/notebook"
   ]
  },
  {
   "cell_type": "markdown",
   "id": "51727afa-c548-47b0-ab3d-3fddbf9f4b77",
   "metadata": {},
   "source": [
    "## To view online:\n",
    "- https://nbviewer.jupyter.org/github/jupyter/notebook/blob/main/docs/source/examples/Notebook/"
   ]
  },
  {
   "cell_type": "markdown",
   "id": "9adc8d7c-2327-464f-80df-36e6435707da",
   "metadata": {},
   "source": [
    "## Topics\n",
    "- What is the Jupyter Notebook\n",
    "- Notebook Basics\n",
    "- Running Code\n",
    "- Working With Markdown Cells"
   ]
  },
  {
   "cell_type": "markdown",
   "id": "e1a4fabb-1b66-4248-8a97-1aa666cea54e",
   "metadata": {},
   "source": [
    "## Additional Notebooks\n",
    "- Custom Keyboard Shortcuts\n",
    "- Importing Notebooks\n",
    "- Connecting with the Qt Console\n",
    "- Typesetting Equations"
   ]
  },
  {
   "cell_type": "code",
   "execution_count": null,
   "id": "49b56f4e-0085-4eb2-80c4-6b0e19f5424a",
   "metadata": {},
   "outputs": [],
   "source": []
  }
 ],
 "metadata": {
  "kernelspec": {
   "display_name": "Python 3 (ipykernel)",
   "language": "python",
   "name": "python3"
  },
  "language_info": {
   "codemirror_mode": {
    "name": "ipython",
    "version": 3
   },
   "file_extension": ".py",
   "mimetype": "text/x-python",
   "name": "python",
   "nbconvert_exporter": "python",
   "pygments_lexer": "ipython3",
   "version": "3.9.12"
  }
 },
 "nbformat": 4,
 "nbformat_minor": 5
}
